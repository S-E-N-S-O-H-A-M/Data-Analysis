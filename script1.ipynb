{
 "cells": [
  {
   "cell_type": "code",
   "execution_count": 5,
   "metadata": {},
   "outputs": [
    {
     "name": "stdout",
     "output_type": "stream",
     "text": [
      "   Date  Visitors  BR    Country  Clicks        Day\n",
      "0     1      1500  20        USA      20    Tuesday\n",
      "1     2       700  25         UK      35  Wednesday\n",
      "2     3       900  15      India      37   Thursday\n",
      "3     4       400  35        USA      12     Friday\n",
      "4     5       500  14     Canada      35   Saturday\n",
      "5     6       700  15      India      32     Sunday\n",
      "6     7       600  20      India      37     Monday\n",
      "7     8       700  16        USA      40    Tuesday\n",
      "8     9      1200  27        USA      52  Wednesday\n",
      "9    10      1400  32  Australia      57   Thursday\n"
     ]
    }
   ],
   "source": [
    "import pandas\n",
    "df1=pandas.read_csv(\"traffic.csv\")\n",
    "print(df1)"
   ]
  },
  {
   "cell_type": "code",
   "execution_count": 5,
   "metadata": {},
   "outputs": [
    {
     "name": "stdout",
     "output_type": "stream",
     "text": [
      "   Date  Visitors  BR    Country  Clicks        Day\n",
      "0     1      1500  20        USA      20    Tuesday\n",
      "1     2       700  25         UK      35  Wednesday\n",
      "2     3       900  15      India      37   Thursday\n",
      "3     4       400  35        USA      12     Friday\n",
      "4     5       500  14     Canada      35   Saturday\n",
      "5     6       700  15      India      32     Sunday\n",
      "6     7       600  20      India      37     Monday\n",
      "7     8       700  16        USA      40    Tuesday\n",
      "8     9      1200  27        USA      52  Wednesday\n",
      "9    10      1400  32  Australia      57   Thursday\n"
     ]
    }
   ],
   "source": [
    "df2=pandas.read_excel(\"traffic.xlsx\")\n",
    "print(df2)"
   ]
  },
  {
   "cell_type": "code",
   "execution_count": 7,
   "metadata": {},
   "outputs": [
    {
     "name": "stdout",
     "output_type": "stream",
     "text": [
      "   Date  Visitors  BR    Country  Clicks        Day\n",
      "0     1      1500  20        USA      20    Tuesday\n",
      "1     2       700  25         UK      35  Wednesday\n",
      "2     3       900  15      India      37   Thursday\n",
      "3     4       400  35        USA      12     Friday\n",
      "4     5       500  14     Canada      35   Saturday\n",
      "5     6       700  15      India      32     Sunday\n",
      "6     7       600  20      India      37     Monday\n",
      "7     8       700  16        USA      40    Tuesday\n",
      "8     9      1200  27        USA      52  Wednesday\n",
      "9    10      1400  32  Australia      57   Thursday\n"
     ]
    }
   ],
   "source": [
    "df3=pandas.read_json(\"traffic.json\")\n",
    "print(df3)"
   ]
  },
  {
   "cell_type": "code",
   "execution_count": 9,
   "metadata": {},
   "outputs": [
    {
     "name": "stdout",
     "output_type": "stream",
     "text": [
      "       0         1   2          3       4          5\n",
      "0   Date  Visitors  BR    Country  Clicks        Day\n",
      "1      1      1500  20        USA      20    Tuesday\n",
      "2      2       700  25         UK      35  Wednesday\n",
      "3      3       900  15      India      37   Thursday\n",
      "4      4       400  35        USA      12     Friday\n",
      "5      5       500  14     Canada      35   Saturday\n",
      "6      6       700  15      India      32     Sunday\n",
      "7      7       600  20      India      37     Monday\n",
      "8      8       700  16        USA      40    Tuesday\n",
      "9      9      1200  27        USA      52  Wednesday\n",
      "10    10      1400  32  Australia      57   Thursday\n"
     ]
    }
   ],
   "source": [
    "df2=pandas.read_excel(\"traffic.xlsx\",header=None)\n",
    "print(df2)"
   ]
  },
  {
   "cell_type": "code",
   "execution_count": 10,
   "metadata": {},
   "outputs": [
    {
     "name": "stdout",
     "output_type": "stream",
     "text": [
      "   Date  Visitors  BR    Country  Clicks        Day\n",
      "0     1      1500  20        USA      20    Tuesday\n",
      "1     2       700  25         UK      35  Wednesday\n",
      "2     3       900  15      India      37   Thursday\n",
      "3     4       400  35        USA      12     Friday\n",
      "4     5       500  14     Canada      35   Saturday\n",
      "5     6       700  15      India      32     Sunday\n",
      "6     7       600  20      India      37     Monday\n",
      "7     8       700  16        USA      40    Tuesday\n",
      "8     9      1200  27        USA      52  Wednesday\n",
      "9    10      1400  32  Australia      57   Thursday\n"
     ]
    }
   ],
   "source": [
    "df2=pandas.read_excel(\"traffic.xlsx\")\n",
    "print(df2)"
   ]
  },
  {
   "cell_type": "code",
   "execution_count": 14,
   "metadata": {},
   "outputs": [],
   "source": [
    "dff=df2.set_index(\"Day\")"
   ]
  },
  {
   "cell_type": "code",
   "execution_count": 16,
   "metadata": {},
   "outputs": [
    {
     "data": {
      "text/html": [
       "<div>\n",
       "<style scoped>\n",
       "    .dataframe tbody tr th:only-of-type {\n",
       "        vertical-align: middle;\n",
       "    }\n",
       "\n",
       "    .dataframe tbody tr th {\n",
       "        vertical-align: top;\n",
       "    }\n",
       "\n",
       "    .dataframe thead th {\n",
       "        text-align: right;\n",
       "    }\n",
       "</style>\n",
       "<table border=\"1\" class=\"dataframe\">\n",
       "  <thead>\n",
       "    <tr style=\"text-align: right;\">\n",
       "      <th></th>\n",
       "      <th>Date</th>\n",
       "      <th>Visitors</th>\n",
       "      <th>BR</th>\n",
       "      <th>Country</th>\n",
       "      <th>Clicks</th>\n",
       "    </tr>\n",
       "    <tr>\n",
       "      <th>Day</th>\n",
       "      <th></th>\n",
       "      <th></th>\n",
       "      <th></th>\n",
       "      <th></th>\n",
       "      <th></th>\n",
       "    </tr>\n",
       "  </thead>\n",
       "  <tbody>\n",
       "    <tr>\n",
       "      <th>Tuesday</th>\n",
       "      <td>1</td>\n",
       "      <td>1500</td>\n",
       "      <td>20</td>\n",
       "      <td>USA</td>\n",
       "      <td>20</td>\n",
       "    </tr>\n",
       "    <tr>\n",
       "      <th>Wednesday</th>\n",
       "      <td>2</td>\n",
       "      <td>700</td>\n",
       "      <td>25</td>\n",
       "      <td>UK</td>\n",
       "      <td>35</td>\n",
       "    </tr>\n",
       "    <tr>\n",
       "      <th>Thursday</th>\n",
       "      <td>3</td>\n",
       "      <td>900</td>\n",
       "      <td>15</td>\n",
       "      <td>India</td>\n",
       "      <td>37</td>\n",
       "    </tr>\n",
       "    <tr>\n",
       "      <th>Friday</th>\n",
       "      <td>4</td>\n",
       "      <td>400</td>\n",
       "      <td>35</td>\n",
       "      <td>USA</td>\n",
       "      <td>12</td>\n",
       "    </tr>\n",
       "    <tr>\n",
       "      <th>Saturday</th>\n",
       "      <td>5</td>\n",
       "      <td>500</td>\n",
       "      <td>14</td>\n",
       "      <td>Canada</td>\n",
       "      <td>35</td>\n",
       "    </tr>\n",
       "    <tr>\n",
       "      <th>Sunday</th>\n",
       "      <td>6</td>\n",
       "      <td>700</td>\n",
       "      <td>15</td>\n",
       "      <td>India</td>\n",
       "      <td>32</td>\n",
       "    </tr>\n",
       "    <tr>\n",
       "      <th>Monday</th>\n",
       "      <td>7</td>\n",
       "      <td>600</td>\n",
       "      <td>20</td>\n",
       "      <td>India</td>\n",
       "      <td>37</td>\n",
       "    </tr>\n",
       "    <tr>\n",
       "      <th>Tuesday</th>\n",
       "      <td>8</td>\n",
       "      <td>700</td>\n",
       "      <td>16</td>\n",
       "      <td>USA</td>\n",
       "      <td>40</td>\n",
       "    </tr>\n",
       "    <tr>\n",
       "      <th>Wednesday</th>\n",
       "      <td>9</td>\n",
       "      <td>1200</td>\n",
       "      <td>27</td>\n",
       "      <td>USA</td>\n",
       "      <td>52</td>\n",
       "    </tr>\n",
       "    <tr>\n",
       "      <th>Thursday</th>\n",
       "      <td>10</td>\n",
       "      <td>1400</td>\n",
       "      <td>32</td>\n",
       "      <td>Australia</td>\n",
       "      <td>57</td>\n",
       "    </tr>\n",
       "  </tbody>\n",
       "</table>\n",
       "</div>"
      ],
      "text/plain": [
       "           Date  Visitors  BR    Country  Clicks\n",
       "Day                                             \n",
       "Tuesday       1      1500  20        USA      20\n",
       "Wednesday     2       700  25         UK      35\n",
       "Thursday      3       900  15      India      37\n",
       "Friday        4       400  35        USA      12\n",
       "Saturday      5       500  14     Canada      35\n",
       "Sunday        6       700  15      India      32\n",
       "Monday        7       600  20      India      37\n",
       "Tuesday       8       700  16        USA      40\n",
       "Wednesday     9      1200  27        USA      52\n",
       "Thursday     10      1400  32  Australia      57"
      ]
     },
     "execution_count": 16,
     "metadata": {},
     "output_type": "execute_result"
    }
   ],
   "source": [
    "dff"
   ]
  },
  {
   "cell_type": "code",
   "execution_count": 18,
   "metadata": {},
   "outputs": [
    {
     "data": {
      "text/plain": [
       "(10, 5)"
      ]
     },
     "execution_count": 18,
     "metadata": {},
     "output_type": "execute_result"
    }
   ],
   "source": [
    "dff.shape"
   ]
  },
  {
   "cell_type": "code",
   "execution_count": 20,
   "metadata": {},
   "outputs": [
    {
     "name": "stdout",
     "output_type": "stream",
     "text": [
      "   Date  Visitors  BR    Country  Clicks        Day\n",
      "0     1      1500  20        USA      20    Tuesday\n",
      "1     2       700  25         UK      35  Wednesday\n",
      "2     3       900  15      India      37   Thursday\n",
      "3     4       400  35        USA      12     Friday\n",
      "4     5       500  14     Canada      35   Saturday\n",
      "5     6       700  15      India      32     Sunday\n",
      "6     7       600  20      India      37     Monday\n",
      "7     8       700  16        USA      40    Tuesday\n",
      "8     9      1200  27        USA      52  Wednesday\n",
      "9    10      1400  32  Australia      57   Thursday\n"
     ]
    }
   ],
   "source": [
    "df5=pandas.read_csv(\"traffic-commas.txt\")\n",
    "print(df5)"
   ]
  },
  {
   "cell_type": "markdown",
   "metadata": {},
   "source": [
    "df6=pandas.read_csv(\"traffi-semi-solons.txt\")\n",
    "print(df6)"
   ]
  },
  {
   "cell_type": "code",
   "execution_count": 22,
   "metadata": {},
   "outputs": [
    {
     "name": "stdout",
     "output_type": "stream",
     "text": [
      "  Date;Visitors;BR;Country;Clicks;Day\n",
      "0            1;1500;20;USA;20;Tuesday\n",
      "1            2;700;25;UK;35;Wednesday\n",
      "2          3;900;15;India;37;Thursday\n",
      "3              4;400;35;USA;12;Friday\n",
      "4         5;500;14;Canada;35;Saturday\n",
      "5            6;700;15;India;32;Sunday\n",
      "6            7;600;20;India;37;Monday\n",
      "7             8;700;16;USA;40;Tuesday\n",
      "8          9;1200;27;USA;52;Wednesday\n",
      "9    10;1400;32;Australia;57;Thursday\n"
     ]
    }
   ],
   "source": [
    "df6=pandas.read_csv(\"traffic-semi-colons.txt\")\n",
    "print(df6)"
   ]
  },
  {
   "cell_type": "code",
   "execution_count": 25,
   "metadata": {},
   "outputs": [
    {
     "name": "stdout",
     "output_type": "stream",
     "text": [
      "   Date  Visitors  BR    Country  Clicks        Day\n",
      "0     1      1500  20        USA      20    Tuesday\n",
      "1     2       700  25         UK      35  Wednesday\n",
      "2     3       900  15      India      37   Thursday\n",
      "3     4       400  35        USA      12     Friday\n",
      "4     5       500  14     Canada      35   Saturday\n",
      "5     6       700  15      India      32     Sunday\n",
      "6     7       600  20      India      37     Monday\n",
      "7     8       700  16        USA      40    Tuesday\n",
      "8     9      1200  27        USA      52  Wednesday\n",
      "9    10      1400  32  Australia      57   Thursday\n"
     ]
    }
   ],
   "source": [
    "df7=pandas.read_csv(\"traffic-semi-colons.txt\",sep=\";\")\n",
    "print(df7)"
   ]
  },
  {
   "cell_type": "code",
   "execution_count": 6,
   "metadata": {},
   "outputs": [
    {
     "name": "stdout",
     "output_type": "stream",
     "text": [
      "   Date  Visitors  BR    Country  Clicks        Day\n",
      "0     1      1500  20        USA      20    Tuesday\n",
      "1     2       700  25         UK      35  Wednesday\n",
      "2     3       900  15      India      37   Thursday\n",
      "3     4       400  35        USA      12     Friday\n",
      "4     5       500  14     Canada      35   Saturday\n",
      "5     6       700  15      India      32     Sunday\n",
      "6     7       600  20      India      37     Monday\n",
      "7     8       700  16        USA      40    Tuesday\n",
      "8     9      1200  27        USA      52  Wednesday\n",
      "9    10      1400  32  Australia      57   Thursday\n"
     ]
    }
   ],
   "source": [
    "df8=pandas.read_csv(\"https://shubhamsarda.com/test/traffic-commas.txt\")\n",
    "print(df8)"
   ]
  },
  {
   "cell_type": "code",
   "execution_count": null,
   "metadata": {},
   "outputs": [],
   "source": [
    "df9=pandas.read_json(\"https://api.myjson.com/bins/c1v3k\")\n",
    "print(df9)"
   ]
  },
  {
   "cell_type": "code",
   "execution_count": 36,
   "metadata": {},
   "outputs": [],
   "source": [
    "df99=df8.loc[2:6,\"Country\":\"Day\"]"
   ]
  },
  {
   "cell_type": "code",
   "execution_count": 38,
   "metadata": {},
   "outputs": [
    {
     "data": {
      "text/html": [
       "<div>\n",
       "<style scoped>\n",
       "    .dataframe tbody tr th:only-of-type {\n",
       "        vertical-align: middle;\n",
       "    }\n",
       "\n",
       "    .dataframe tbody tr th {\n",
       "        vertical-align: top;\n",
       "    }\n",
       "\n",
       "    .dataframe thead th {\n",
       "        text-align: right;\n",
       "    }\n",
       "</style>\n",
       "<table border=\"1\" class=\"dataframe\">\n",
       "  <thead>\n",
       "    <tr style=\"text-align: right;\">\n",
       "      <th></th>\n",
       "      <th>Country</th>\n",
       "      <th>Clicks</th>\n",
       "      <th>Day</th>\n",
       "    </tr>\n",
       "  </thead>\n",
       "  <tbody>\n",
       "    <tr>\n",
       "      <th>2</th>\n",
       "      <td>India</td>\n",
       "      <td>37</td>\n",
       "      <td>Thursday</td>\n",
       "    </tr>\n",
       "    <tr>\n",
       "      <th>3</th>\n",
       "      <td>USA</td>\n",
       "      <td>12</td>\n",
       "      <td>Friday</td>\n",
       "    </tr>\n",
       "    <tr>\n",
       "      <th>4</th>\n",
       "      <td>Canada</td>\n",
       "      <td>35</td>\n",
       "      <td>Saturday</td>\n",
       "    </tr>\n",
       "    <tr>\n",
       "      <th>5</th>\n",
       "      <td>India</td>\n",
       "      <td>32</td>\n",
       "      <td>Sunday</td>\n",
       "    </tr>\n",
       "    <tr>\n",
       "      <th>6</th>\n",
       "      <td>India</td>\n",
       "      <td>37</td>\n",
       "      <td>Monday</td>\n",
       "    </tr>\n",
       "  </tbody>\n",
       "</table>\n",
       "</div>"
      ],
      "text/plain": [
       "  Country  Clicks       Day\n",
       "2   India      37  Thursday\n",
       "3     USA      12    Friday\n",
       "4  Canada      35  Saturday\n",
       "5   India      32    Sunday\n",
       "6   India      37    Monday"
      ]
     },
     "execution_count": 38,
     "metadata": {},
     "output_type": "execute_result"
    }
   ],
   "source": [
    "df99\n"
   ]
  },
  {
   "cell_type": "code",
   "execution_count": 41,
   "metadata": {},
   "outputs": [
    {
     "name": "stdout",
     "output_type": "stream",
     "text": [
      "12\n"
     ]
    }
   ],
   "source": [
    "df98=df8.loc[3,\"Clicks\"]\n",
    "print(df98)"
   ]
  },
  {
   "cell_type": "code",
   "execution_count": 43,
   "metadata": {},
   "outputs": [
    {
     "name": "stdout",
     "output_type": "stream",
     "text": [
      "0    20\n",
      "1    35\n",
      "2    37\n",
      "3    12\n",
      "4    35\n",
      "5    32\n",
      "6    37\n",
      "7    40\n",
      "8    52\n",
      "9    57\n",
      "Name: Clicks, dtype: int64\n"
     ]
    }
   ],
   "source": [
    "df100=df8.loc[:,\"Clicks\"]\n",
    "print(df100)"
   ]
  },
  {
   "cell_type": "code",
   "execution_count": 8,
   "metadata": {},
   "outputs": [
    {
     "name": "stdout",
     "output_type": "stream",
     "text": [
      "   BR Country\n",
      "1  25      UK\n",
      "2  15   India\n"
     ]
    }
   ],
   "source": [
    "df101=df8.iloc[1:3,2:4]\n",
    "print(df101)"
   ]
  },
  {
   "cell_type": "code",
   "execution_count": 12,
   "metadata": {},
   "outputs": [
    {
     "name": "stdout",
     "output_type": "stream",
     "text": [
      "   Date  Visitors  BR    Country  Clicks        Day\n",
      "0     1      1500  20        USA      20    Tuesday\n",
      "1     2       700  25         UK      35  Wednesday\n",
      "2     3       900  15      India      37   Thursday\n",
      "3     4       400  35        USA      12     Friday\n",
      "4     5       500  14     Canada      35   Saturday\n",
      "5     6       700  15      India      32     Sunday\n",
      "6     7       600  20      India      37     Monday\n",
      "7     8       700  16        USA      40    Tuesday\n",
      "8     9      1200  27        USA      52  Wednesday\n",
      "9    10      1400  32  Australia      57   Thursday\n"
     ]
    }
   ],
   "source": [
    "df8=pandas.read_csv(\"https://shubhamsarda.com/test/traffic-commas.txt\")\n",
    "print(df8)"
   ]
  },
  {
   "cell_type": "code",
   "execution_count": 14,
   "metadata": {},
   "outputs": [
    {
     "name": "stdout",
     "output_type": "stream",
     "text": [
      "   Date  Visitors  BR    Country        Day\n",
      "0     1      1500  20        USA    Tuesday\n",
      "1     2       700  25         UK  Wednesday\n",
      "2     3       900  15      India   Thursday\n",
      "3     4       400  35        USA     Friday\n",
      "4     5       500  14     Canada   Saturday\n",
      "5     6       700  15      India     Sunday\n",
      "6     7       600  20      India     Monday\n",
      "7     8       700  16        USA    Tuesday\n",
      "8     9      1200  27        USA  Wednesday\n",
      "9    10      1400  32  Australia   Thursday\n"
     ]
    }
   ],
   "source": [
    "df1=df8.drop(\"Clicks\",1)\n",
    "print(df1)"
   ]
  },
  {
   "cell_type": "code",
   "execution_count": 16,
   "metadata": {},
   "outputs": [
    {
     "name": "stdout",
     "output_type": "stream",
     "text": [
      "   Date  Visitors  BR    Country  Clicks        Day\n",
      "0     1      1500  20        USA      20    Tuesday\n",
      "1     2       700  25         UK      35  Wednesday\n",
      "2     3       900  15      India      37   Thursday\n",
      "3     4       400  35        USA      12     Friday\n",
      "4     5       500  14     Canada      35   Saturday\n",
      "5     6       700  15      India      32     Sunday\n",
      "6     7       600  20      India      37     Monday\n",
      "8     9      1200  27        USA      52  Wednesday\n",
      "9    10      1400  32  Australia      57   Thursday\n"
     ]
    }
   ],
   "source": [
    "df2=df8.drop(7,0)\n",
    "print(df2)"
   ]
  },
  {
   "cell_type": "code",
   "execution_count": 18,
   "metadata": {},
   "outputs": [
    {
     "name": "stdout",
     "output_type": "stream",
     "text": [
      "   Date  Visitors    Country  Clicks        Day\n",
      "0     1      1500        USA      20    Tuesday\n",
      "1     2       700         UK      35  Wednesday\n",
      "2     3       900      India      37   Thursday\n",
      "3     4       400        USA      12     Friday\n",
      "4     5       500     Canada      35   Saturday\n",
      "5     6       700      India      32     Sunday\n",
      "6     7       600      India      37     Monday\n",
      "7     8       700        USA      40    Tuesday\n",
      "8     9      1200        USA      52  Wednesday\n",
      "9    10      1400  Australia      57   Thursday\n"
     ]
    }
   ],
   "source": [
    "df3=df8.drop(df8.columns[2],1)\n",
    "print(df3)"
   ]
  },
  {
   "cell_type": "code",
   "execution_count": 23,
   "metadata": {},
   "outputs": [
    {
     "name": "stdout",
     "output_type": "stream",
     "text": [
      "   Date  Visitors  BR    Country  Clicks        Day\n",
      "0     1      1500  20        USA      20    Tuesday\n",
      "2     3       900  15      India      37   Thursday\n",
      "3     4       400  35        USA      12     Friday\n",
      "4     5       500  14     Canada      35   Saturday\n",
      "5     6       700  15      India      32     Sunday\n",
      "6     7       600  20      India      37     Monday\n",
      "7     8       700  16        USA      40    Tuesday\n",
      "8     9      1200  27        USA      52  Wednesday\n",
      "9    10      1400  32  Australia      57   Thursday\n"
     ]
    }
   ],
   "source": [
    "df4=df8.drop(df8.index[1],0)\n",
    "print(df4)"
   ]
  },
  {
   "cell_type": "code",
   "execution_count": 27,
   "metadata": {},
   "outputs": [
    {
     "name": "stdout",
     "output_type": "stream",
     "text": [
      "Visitors\n"
     ]
    }
   ],
   "source": [
    "print(df8.columns[1])\n"
   ]
  },
  {
   "cell_type": "code",
   "execution_count": 33,
   "metadata": {},
   "outputs": [
    {
     "name": "stdout",
     "output_type": "stream",
     "text": [
      "   Date  Visitors  BR    Country  Clicks        Day Status\n",
      "0     1      1500  20        USA      20    Tuesday      a\n",
      "2     3       900  15      India      37   Thursday      a\n",
      "3     4       400  35        USA      12     Friday      a\n",
      "4     5       500  14     Canada      35   Saturday      a\n",
      "5     6       700  15      India      32     Sunday      a\n",
      "6     7       600  20      India      37     Monday      a\n",
      "7     8       700  16        USA      40    Tuesday      a\n",
      "8     9      1200  27        USA      52  Wednesday      a\n",
      "9    10      1400  32  Australia      57   Thursday      a\n"
     ]
    }
   ],
   "source": [
    "df4[\"Status\"]=[\"a\"] * 9\n",
    "print(df4)"
   ]
  },
  {
   "cell_type": "code",
   "execution_count": 38,
   "metadata": {},
   "outputs": [
    {
     "data": {
      "text/plain": [
       "(9, 7)"
      ]
     },
     "execution_count": 38,
     "metadata": {},
     "output_type": "execute_result"
    }
   ],
   "source": [
    "df4.shape"
   ]
  },
  {
   "cell_type": "code",
   "execution_count": 40,
   "metadata": {},
   "outputs": [
    {
     "data": {
      "text/plain": [
       "7"
      ]
     },
     "execution_count": 40,
     "metadata": {},
     "output_type": "execute_result"
    }
   ],
   "source": [
    "df4.shape[1]"
   ]
  },
  {
   "cell_type": "code",
   "execution_count": 43,
   "metadata": {},
   "outputs": [
    {
     "name": "stdout",
     "output_type": "stream",
     "text": [
      "   Date  Visitors  BR    Country  Clicks        Day Status\n",
      "0     1      1500  20        USA      20    Tuesday      a\n",
      "2     3       900  15      India      37   Thursday      a\n",
      "3     4       400  35        USA      12     Friday      a\n",
      "4     5       500  14     Canada      35   Saturday      a\n",
      "5     6       700  15      India      32     Sunday      a\n",
      "6     7       600  20      India      37     Monday      a\n",
      "7     8       700  16        USA      40    Tuesday      a\n",
      "8     9      1200  27        USA      52  Wednesday      a\n",
      "9    10      1400  32  Australia      57   Thursday      a\n"
     ]
    }
   ],
   "source": [
    "df4[\"Status\"]=[\"a\"] * df4.shape[0]\n",
    "print(df4)"
   ]
  },
  {
   "cell_type": "code",
   "execution_count": 47,
   "metadata": {},
   "outputs": [
    {
     "data": {
      "text/html": [
       "<div>\n",
       "<style scoped>\n",
       "    .dataframe tbody tr th:only-of-type {\n",
       "        vertical-align: middle;\n",
       "    }\n",
       "\n",
       "    .dataframe tbody tr th {\n",
       "        vertical-align: top;\n",
       "    }\n",
       "\n",
       "    .dataframe thead th {\n",
       "        text-align: right;\n",
       "    }\n",
       "</style>\n",
       "<table border=\"1\" class=\"dataframe\">\n",
       "  <thead>\n",
       "    <tr style=\"text-align: right;\">\n",
       "      <th></th>\n",
       "      <th>Date</th>\n",
       "      <th>Visitors</th>\n",
       "      <th>BR</th>\n",
       "      <th>Country</th>\n",
       "      <th>Clicks</th>\n",
       "      <th>Day</th>\n",
       "      <th>Status</th>\n",
       "    </tr>\n",
       "  </thead>\n",
       "  <tbody>\n",
       "    <tr>\n",
       "      <th>0</th>\n",
       "      <td>1</td>\n",
       "      <td>1500</td>\n",
       "      <td>20</td>\n",
       "      <td>USA</td>\n",
       "      <td>20</td>\n",
       "      <td>TuesdayJuneJuneJune</td>\n",
       "      <td>a</td>\n",
       "    </tr>\n",
       "    <tr>\n",
       "      <th>2</th>\n",
       "      <td>3</td>\n",
       "      <td>900</td>\n",
       "      <td>15</td>\n",
       "      <td>India</td>\n",
       "      <td>37</td>\n",
       "      <td>ThursdayJuneJuneJune</td>\n",
       "      <td>a</td>\n",
       "    </tr>\n",
       "    <tr>\n",
       "      <th>3</th>\n",
       "      <td>4</td>\n",
       "      <td>400</td>\n",
       "      <td>35</td>\n",
       "      <td>USA</td>\n",
       "      <td>12</td>\n",
       "      <td>FridayJuneJuneJune</td>\n",
       "      <td>a</td>\n",
       "    </tr>\n",
       "    <tr>\n",
       "      <th>4</th>\n",
       "      <td>5</td>\n",
       "      <td>500</td>\n",
       "      <td>14</td>\n",
       "      <td>Canada</td>\n",
       "      <td>35</td>\n",
       "      <td>SaturdayJuneJuneJune</td>\n",
       "      <td>a</td>\n",
       "    </tr>\n",
       "    <tr>\n",
       "      <th>5</th>\n",
       "      <td>6</td>\n",
       "      <td>700</td>\n",
       "      <td>15</td>\n",
       "      <td>India</td>\n",
       "      <td>32</td>\n",
       "      <td>SundayJuneJuneJune</td>\n",
       "      <td>a</td>\n",
       "    </tr>\n",
       "    <tr>\n",
       "      <th>6</th>\n",
       "      <td>7</td>\n",
       "      <td>600</td>\n",
       "      <td>20</td>\n",
       "      <td>India</td>\n",
       "      <td>37</td>\n",
       "      <td>MondayJuneJuneJune</td>\n",
       "      <td>a</td>\n",
       "    </tr>\n",
       "    <tr>\n",
       "      <th>7</th>\n",
       "      <td>8</td>\n",
       "      <td>700</td>\n",
       "      <td>16</td>\n",
       "      <td>USA</td>\n",
       "      <td>40</td>\n",
       "      <td>TuesdayJuneJuneJune</td>\n",
       "      <td>a</td>\n",
       "    </tr>\n",
       "    <tr>\n",
       "      <th>8</th>\n",
       "      <td>9</td>\n",
       "      <td>1200</td>\n",
       "      <td>27</td>\n",
       "      <td>USA</td>\n",
       "      <td>52</td>\n",
       "      <td>WednesdayJuneJuneJune</td>\n",
       "      <td>a</td>\n",
       "    </tr>\n",
       "    <tr>\n",
       "      <th>9</th>\n",
       "      <td>10</td>\n",
       "      <td>1400</td>\n",
       "      <td>32</td>\n",
       "      <td>Australia</td>\n",
       "      <td>57</td>\n",
       "      <td>ThursdayJuneJuneJune</td>\n",
       "      <td>a</td>\n",
       "    </tr>\n",
       "  </tbody>\n",
       "</table>\n",
       "</div>"
      ],
      "text/plain": [
       "   Date  Visitors  BR    Country  Clicks                    Day Status\n",
       "0     1      1500  20        USA      20    TuesdayJuneJuneJune      a\n",
       "2     3       900  15      India      37   ThursdayJuneJuneJune      a\n",
       "3     4       400  35        USA      12     FridayJuneJuneJune      a\n",
       "4     5       500  14     Canada      35   SaturdayJuneJuneJune      a\n",
       "5     6       700  15      India      32     SundayJuneJuneJune      a\n",
       "6     7       600  20      India      37     MondayJuneJuneJune      a\n",
       "7     8       700  16        USA      40    TuesdayJuneJuneJune      a\n",
       "8     9      1200  27        USA      52  WednesdayJuneJuneJune      a\n",
       "9    10      1400  32  Australia      57   ThursdayJuneJuneJune      a"
      ]
     },
     "execution_count": 47,
     "metadata": {},
     "output_type": "execute_result"
    }
   ],
   "source": [
    "df4[\"Day\"]=df4[\"Day\"] + \"June\"\n",
    "df4"
   ]
  },
  {
   "cell_type": "code",
   "execution_count": 49,
   "metadata": {},
   "outputs": [
    {
     "data": {
      "text/html": [
       "<div>\n",
       "<style scoped>\n",
       "    .dataframe tbody tr th:only-of-type {\n",
       "        vertical-align: middle;\n",
       "    }\n",
       "\n",
       "    .dataframe tbody tr th {\n",
       "        vertical-align: top;\n",
       "    }\n",
       "\n",
       "    .dataframe thead th {\n",
       "        text-align: right;\n",
       "    }\n",
       "</style>\n",
       "<table border=\"1\" class=\"dataframe\">\n",
       "  <thead>\n",
       "    <tr style=\"text-align: right;\">\n",
       "      <th></th>\n",
       "      <th>Date</th>\n",
       "      <th>Visitors</th>\n",
       "      <th>BR</th>\n",
       "      <th>Country</th>\n",
       "      <th>Clicks</th>\n",
       "      <th>Day</th>\n",
       "    </tr>\n",
       "  </thead>\n",
       "  <tbody>\n",
       "    <tr>\n",
       "      <th>0</th>\n",
       "      <td>1</td>\n",
       "      <td>1500</td>\n",
       "      <td>20</td>\n",
       "      <td>USA</td>\n",
       "      <td>20</td>\n",
       "      <td>Tuesday</td>\n",
       "    </tr>\n",
       "    <tr>\n",
       "      <th>1</th>\n",
       "      <td>2</td>\n",
       "      <td>700</td>\n",
       "      <td>25</td>\n",
       "      <td>UK</td>\n",
       "      <td>35</td>\n",
       "      <td>Wednesday</td>\n",
       "    </tr>\n",
       "    <tr>\n",
       "      <th>2</th>\n",
       "      <td>3</td>\n",
       "      <td>900</td>\n",
       "      <td>15</td>\n",
       "      <td>India</td>\n",
       "      <td>37</td>\n",
       "      <td>Thursday</td>\n",
       "    </tr>\n",
       "    <tr>\n",
       "      <th>3</th>\n",
       "      <td>4</td>\n",
       "      <td>400</td>\n",
       "      <td>35</td>\n",
       "      <td>USA</td>\n",
       "      <td>12</td>\n",
       "      <td>Friday</td>\n",
       "    </tr>\n",
       "    <tr>\n",
       "      <th>4</th>\n",
       "      <td>5</td>\n",
       "      <td>500</td>\n",
       "      <td>14</td>\n",
       "      <td>Canada</td>\n",
       "      <td>35</td>\n",
       "      <td>Saturday</td>\n",
       "    </tr>\n",
       "    <tr>\n",
       "      <th>5</th>\n",
       "      <td>6</td>\n",
       "      <td>700</td>\n",
       "      <td>15</td>\n",
       "      <td>India</td>\n",
       "      <td>32</td>\n",
       "      <td>Sunday</td>\n",
       "    </tr>\n",
       "    <tr>\n",
       "      <th>6</th>\n",
       "      <td>7</td>\n",
       "      <td>600</td>\n",
       "      <td>20</td>\n",
       "      <td>India</td>\n",
       "      <td>37</td>\n",
       "      <td>Monday</td>\n",
       "    </tr>\n",
       "    <tr>\n",
       "      <th>7</th>\n",
       "      <td>8</td>\n",
       "      <td>700</td>\n",
       "      <td>16</td>\n",
       "      <td>USA</td>\n",
       "      <td>40</td>\n",
       "      <td>Tuesday</td>\n",
       "    </tr>\n",
       "    <tr>\n",
       "      <th>8</th>\n",
       "      <td>9</td>\n",
       "      <td>1200</td>\n",
       "      <td>27</td>\n",
       "      <td>USA</td>\n",
       "      <td>52</td>\n",
       "      <td>Wednesday</td>\n",
       "    </tr>\n",
       "    <tr>\n",
       "      <th>9</th>\n",
       "      <td>10</td>\n",
       "      <td>1400</td>\n",
       "      <td>32</td>\n",
       "      <td>Australia</td>\n",
       "      <td>57</td>\n",
       "      <td>Thursday</td>\n",
       "    </tr>\n",
       "  </tbody>\n",
       "</table>\n",
       "</div>"
      ],
      "text/plain": [
       "   Date  Visitors  BR    Country  Clicks        Day\n",
       "0     1      1500  20        USA      20    Tuesday\n",
       "1     2       700  25         UK      35  Wednesday\n",
       "2     3       900  15      India      37   Thursday\n",
       "3     4       400  35        USA      12     Friday\n",
       "4     5       500  14     Canada      35   Saturday\n",
       "5     6       700  15      India      32     Sunday\n",
       "6     7       600  20      India      37     Monday\n",
       "7     8       700  16        USA      40    Tuesday\n",
       "8     9      1200  27        USA      52  Wednesday\n",
       "9    10      1400  32  Australia      57   Thursday"
      ]
     },
     "execution_count": 49,
     "metadata": {},
     "output_type": "execute_result"
    }
   ],
   "source": [
    "df8"
   ]
  },
  {
   "cell_type": "code",
   "execution_count": 51,
   "metadata": {},
   "outputs": [],
   "source": [
    "df1=df8.T"
   ]
  },
  {
   "cell_type": "code",
   "execution_count": 53,
   "metadata": {},
   "outputs": [
    {
     "data": {
      "text/html": [
       "<div>\n",
       "<style scoped>\n",
       "    .dataframe tbody tr th:only-of-type {\n",
       "        vertical-align: middle;\n",
       "    }\n",
       "\n",
       "    .dataframe tbody tr th {\n",
       "        vertical-align: top;\n",
       "    }\n",
       "\n",
       "    .dataframe thead th {\n",
       "        text-align: right;\n",
       "    }\n",
       "</style>\n",
       "<table border=\"1\" class=\"dataframe\">\n",
       "  <thead>\n",
       "    <tr style=\"text-align: right;\">\n",
       "      <th></th>\n",
       "      <th>0</th>\n",
       "      <th>1</th>\n",
       "      <th>2</th>\n",
       "      <th>3</th>\n",
       "      <th>4</th>\n",
       "      <th>5</th>\n",
       "      <th>6</th>\n",
       "      <th>7</th>\n",
       "      <th>8</th>\n",
       "      <th>9</th>\n",
       "    </tr>\n",
       "  </thead>\n",
       "  <tbody>\n",
       "    <tr>\n",
       "      <th>Date</th>\n",
       "      <td>1</td>\n",
       "      <td>2</td>\n",
       "      <td>3</td>\n",
       "      <td>4</td>\n",
       "      <td>5</td>\n",
       "      <td>6</td>\n",
       "      <td>7</td>\n",
       "      <td>8</td>\n",
       "      <td>9</td>\n",
       "      <td>10</td>\n",
       "    </tr>\n",
       "    <tr>\n",
       "      <th>Visitors</th>\n",
       "      <td>1500</td>\n",
       "      <td>700</td>\n",
       "      <td>900</td>\n",
       "      <td>400</td>\n",
       "      <td>500</td>\n",
       "      <td>700</td>\n",
       "      <td>600</td>\n",
       "      <td>700</td>\n",
       "      <td>1200</td>\n",
       "      <td>1400</td>\n",
       "    </tr>\n",
       "    <tr>\n",
       "      <th>BR</th>\n",
       "      <td>20</td>\n",
       "      <td>25</td>\n",
       "      <td>15</td>\n",
       "      <td>35</td>\n",
       "      <td>14</td>\n",
       "      <td>15</td>\n",
       "      <td>20</td>\n",
       "      <td>16</td>\n",
       "      <td>27</td>\n",
       "      <td>32</td>\n",
       "    </tr>\n",
       "    <tr>\n",
       "      <th>Country</th>\n",
       "      <td>USA</td>\n",
       "      <td>UK</td>\n",
       "      <td>India</td>\n",
       "      <td>USA</td>\n",
       "      <td>Canada</td>\n",
       "      <td>India</td>\n",
       "      <td>India</td>\n",
       "      <td>USA</td>\n",
       "      <td>USA</td>\n",
       "      <td>Australia</td>\n",
       "    </tr>\n",
       "    <tr>\n",
       "      <th>Clicks</th>\n",
       "      <td>20</td>\n",
       "      <td>35</td>\n",
       "      <td>37</td>\n",
       "      <td>12</td>\n",
       "      <td>35</td>\n",
       "      <td>32</td>\n",
       "      <td>37</td>\n",
       "      <td>40</td>\n",
       "      <td>52</td>\n",
       "      <td>57</td>\n",
       "    </tr>\n",
       "    <tr>\n",
       "      <th>Day</th>\n",
       "      <td>Tuesday</td>\n",
       "      <td>Wednesday</td>\n",
       "      <td>Thursday</td>\n",
       "      <td>Friday</td>\n",
       "      <td>Saturday</td>\n",
       "      <td>Sunday</td>\n",
       "      <td>Monday</td>\n",
       "      <td>Tuesday</td>\n",
       "      <td>Wednesday</td>\n",
       "      <td>Thursday</td>\n",
       "    </tr>\n",
       "  </tbody>\n",
       "</table>\n",
       "</div>"
      ],
      "text/plain": [
       "                0          1         2       3         4       5       6  \\\n",
       "Date            1          2         3       4         5       6       7   \n",
       "Visitors     1500        700       900     400       500     700     600   \n",
       "BR             20         25        15      35        14      15      20   \n",
       "Country       USA         UK     India     USA    Canada   India   India   \n",
       "Clicks         20         35        37      12        35      32      37   \n",
       "Day       Tuesday  Wednesday  Thursday  Friday  Saturday  Sunday  Monday   \n",
       "\n",
       "                7          8          9  \n",
       "Date            8          9         10  \n",
       "Visitors      700       1200       1400  \n",
       "BR             16         27         32  \n",
       "Country       USA        USA  Australia  \n",
       "Clicks         40         52         57  \n",
       "Day       Tuesday  Wednesday   Thursday  "
      ]
     },
     "execution_count": 53,
     "metadata": {},
     "output_type": "execute_result"
    }
   ],
   "source": [
    "df1"
   ]
  },
  {
   "cell_type": "code",
   "execution_count": 55,
   "metadata": {},
   "outputs": [],
   "source": [
    "df1[\"10\"]=[11,2000,34,\"India\",34,\"Friday\"]"
   ]
  },
  {
   "cell_type": "code",
   "execution_count": 57,
   "metadata": {},
   "outputs": [
    {
     "data": {
      "text/html": [
       "<div>\n",
       "<style scoped>\n",
       "    .dataframe tbody tr th:only-of-type {\n",
       "        vertical-align: middle;\n",
       "    }\n",
       "\n",
       "    .dataframe tbody tr th {\n",
       "        vertical-align: top;\n",
       "    }\n",
       "\n",
       "    .dataframe thead th {\n",
       "        text-align: right;\n",
       "    }\n",
       "</style>\n",
       "<table border=\"1\" class=\"dataframe\">\n",
       "  <thead>\n",
       "    <tr style=\"text-align: right;\">\n",
       "      <th></th>\n",
       "      <th>0</th>\n",
       "      <th>1</th>\n",
       "      <th>2</th>\n",
       "      <th>3</th>\n",
       "      <th>4</th>\n",
       "      <th>5</th>\n",
       "      <th>6</th>\n",
       "      <th>7</th>\n",
       "      <th>8</th>\n",
       "      <th>9</th>\n",
       "      <th>10</th>\n",
       "    </tr>\n",
       "  </thead>\n",
       "  <tbody>\n",
       "    <tr>\n",
       "      <th>Date</th>\n",
       "      <td>1</td>\n",
       "      <td>2</td>\n",
       "      <td>3</td>\n",
       "      <td>4</td>\n",
       "      <td>5</td>\n",
       "      <td>6</td>\n",
       "      <td>7</td>\n",
       "      <td>8</td>\n",
       "      <td>9</td>\n",
       "      <td>10</td>\n",
       "      <td>11</td>\n",
       "    </tr>\n",
       "    <tr>\n",
       "      <th>Visitors</th>\n",
       "      <td>1500</td>\n",
       "      <td>700</td>\n",
       "      <td>900</td>\n",
       "      <td>400</td>\n",
       "      <td>500</td>\n",
       "      <td>700</td>\n",
       "      <td>600</td>\n",
       "      <td>700</td>\n",
       "      <td>1200</td>\n",
       "      <td>1400</td>\n",
       "      <td>2000</td>\n",
       "    </tr>\n",
       "    <tr>\n",
       "      <th>BR</th>\n",
       "      <td>20</td>\n",
       "      <td>25</td>\n",
       "      <td>15</td>\n",
       "      <td>35</td>\n",
       "      <td>14</td>\n",
       "      <td>15</td>\n",
       "      <td>20</td>\n",
       "      <td>16</td>\n",
       "      <td>27</td>\n",
       "      <td>32</td>\n",
       "      <td>34</td>\n",
       "    </tr>\n",
       "    <tr>\n",
       "      <th>Country</th>\n",
       "      <td>USA</td>\n",
       "      <td>UK</td>\n",
       "      <td>India</td>\n",
       "      <td>USA</td>\n",
       "      <td>Canada</td>\n",
       "      <td>India</td>\n",
       "      <td>India</td>\n",
       "      <td>USA</td>\n",
       "      <td>USA</td>\n",
       "      <td>Australia</td>\n",
       "      <td>India</td>\n",
       "    </tr>\n",
       "    <tr>\n",
       "      <th>Clicks</th>\n",
       "      <td>20</td>\n",
       "      <td>35</td>\n",
       "      <td>37</td>\n",
       "      <td>12</td>\n",
       "      <td>35</td>\n",
       "      <td>32</td>\n",
       "      <td>37</td>\n",
       "      <td>40</td>\n",
       "      <td>52</td>\n",
       "      <td>57</td>\n",
       "      <td>34</td>\n",
       "    </tr>\n",
       "    <tr>\n",
       "      <th>Day</th>\n",
       "      <td>Tuesday</td>\n",
       "      <td>Wednesday</td>\n",
       "      <td>Thursday</td>\n",
       "      <td>Friday</td>\n",
       "      <td>Saturday</td>\n",
       "      <td>Sunday</td>\n",
       "      <td>Monday</td>\n",
       "      <td>Tuesday</td>\n",
       "      <td>Wednesday</td>\n",
       "      <td>Thursday</td>\n",
       "      <td>Friday</td>\n",
       "    </tr>\n",
       "  </tbody>\n",
       "</table>\n",
       "</div>"
      ],
      "text/plain": [
       "                0          1         2       3         4       5       6  \\\n",
       "Date            1          2         3       4         5       6       7   \n",
       "Visitors     1500        700       900     400       500     700     600   \n",
       "BR             20         25        15      35        14      15      20   \n",
       "Country       USA         UK     India     USA    Canada   India   India   \n",
       "Clicks         20         35        37      12        35      32      37   \n",
       "Day       Tuesday  Wednesday  Thursday  Friday  Saturday  Sunday  Monday   \n",
       "\n",
       "                7          8          9      10  \n",
       "Date            8          9         10      11  \n",
       "Visitors      700       1200       1400    2000  \n",
       "BR             16         27         32      34  \n",
       "Country       USA        USA  Australia   India  \n",
       "Clicks         40         52         57      34  \n",
       "Day       Tuesday  Wednesday   Thursday  Friday  "
      ]
     },
     "execution_count": 57,
     "metadata": {},
     "output_type": "execute_result"
    }
   ],
   "source": [
    "df1"
   ]
  },
  {
   "cell_type": "code",
   "execution_count": 59,
   "metadata": {},
   "outputs": [],
   "source": [
    "df8=df1.T"
   ]
  },
  {
   "cell_type": "code",
   "execution_count": 60,
   "metadata": {},
   "outputs": [
    {
     "data": {
      "text/html": [
       "<div>\n",
       "<style scoped>\n",
       "    .dataframe tbody tr th:only-of-type {\n",
       "        vertical-align: middle;\n",
       "    }\n",
       "\n",
       "    .dataframe tbody tr th {\n",
       "        vertical-align: top;\n",
       "    }\n",
       "\n",
       "    .dataframe thead th {\n",
       "        text-align: right;\n",
       "    }\n",
       "</style>\n",
       "<table border=\"1\" class=\"dataframe\">\n",
       "  <thead>\n",
       "    <tr style=\"text-align: right;\">\n",
       "      <th></th>\n",
       "      <th>Date</th>\n",
       "      <th>Visitors</th>\n",
       "      <th>BR</th>\n",
       "      <th>Country</th>\n",
       "      <th>Clicks</th>\n",
       "      <th>Day</th>\n",
       "    </tr>\n",
       "  </thead>\n",
       "  <tbody>\n",
       "    <tr>\n",
       "      <th>0</th>\n",
       "      <td>1</td>\n",
       "      <td>1500</td>\n",
       "      <td>20</td>\n",
       "      <td>USA</td>\n",
       "      <td>20</td>\n",
       "      <td>Tuesday</td>\n",
       "    </tr>\n",
       "    <tr>\n",
       "      <th>1</th>\n",
       "      <td>2</td>\n",
       "      <td>700</td>\n",
       "      <td>25</td>\n",
       "      <td>UK</td>\n",
       "      <td>35</td>\n",
       "      <td>Wednesday</td>\n",
       "    </tr>\n",
       "    <tr>\n",
       "      <th>2</th>\n",
       "      <td>3</td>\n",
       "      <td>900</td>\n",
       "      <td>15</td>\n",
       "      <td>India</td>\n",
       "      <td>37</td>\n",
       "      <td>Thursday</td>\n",
       "    </tr>\n",
       "    <tr>\n",
       "      <th>3</th>\n",
       "      <td>4</td>\n",
       "      <td>400</td>\n",
       "      <td>35</td>\n",
       "      <td>USA</td>\n",
       "      <td>12</td>\n",
       "      <td>Friday</td>\n",
       "    </tr>\n",
       "    <tr>\n",
       "      <th>4</th>\n",
       "      <td>5</td>\n",
       "      <td>500</td>\n",
       "      <td>14</td>\n",
       "      <td>Canada</td>\n",
       "      <td>35</td>\n",
       "      <td>Saturday</td>\n",
       "    </tr>\n",
       "    <tr>\n",
       "      <th>5</th>\n",
       "      <td>6</td>\n",
       "      <td>700</td>\n",
       "      <td>15</td>\n",
       "      <td>India</td>\n",
       "      <td>32</td>\n",
       "      <td>Sunday</td>\n",
       "    </tr>\n",
       "    <tr>\n",
       "      <th>6</th>\n",
       "      <td>7</td>\n",
       "      <td>600</td>\n",
       "      <td>20</td>\n",
       "      <td>India</td>\n",
       "      <td>37</td>\n",
       "      <td>Monday</td>\n",
       "    </tr>\n",
       "    <tr>\n",
       "      <th>7</th>\n",
       "      <td>8</td>\n",
       "      <td>700</td>\n",
       "      <td>16</td>\n",
       "      <td>USA</td>\n",
       "      <td>40</td>\n",
       "      <td>Tuesday</td>\n",
       "    </tr>\n",
       "    <tr>\n",
       "      <th>8</th>\n",
       "      <td>9</td>\n",
       "      <td>1200</td>\n",
       "      <td>27</td>\n",
       "      <td>USA</td>\n",
       "      <td>52</td>\n",
       "      <td>Wednesday</td>\n",
       "    </tr>\n",
       "    <tr>\n",
       "      <th>9</th>\n",
       "      <td>10</td>\n",
       "      <td>1400</td>\n",
       "      <td>32</td>\n",
       "      <td>Australia</td>\n",
       "      <td>57</td>\n",
       "      <td>Thursday</td>\n",
       "    </tr>\n",
       "    <tr>\n",
       "      <th>10</th>\n",
       "      <td>11</td>\n",
       "      <td>2000</td>\n",
       "      <td>34</td>\n",
       "      <td>India</td>\n",
       "      <td>34</td>\n",
       "      <td>Friday</td>\n",
       "    </tr>\n",
       "  </tbody>\n",
       "</table>\n",
       "</div>"
      ],
      "text/plain": [
       "   Date Visitors  BR    Country Clicks        Day\n",
       "0     1     1500  20        USA     20    Tuesday\n",
       "1     2      700  25         UK     35  Wednesday\n",
       "2     3      900  15      India     37   Thursday\n",
       "3     4      400  35        USA     12     Friday\n",
       "4     5      500  14     Canada     35   Saturday\n",
       "5     6      700  15      India     32     Sunday\n",
       "6     7      600  20      India     37     Monday\n",
       "7     8      700  16        USA     40    Tuesday\n",
       "8     9     1200  27        USA     52  Wednesday\n",
       "9    10     1400  32  Australia     57   Thursday\n",
       "10   11     2000  34      India     34     Friday"
      ]
     },
     "execution_count": 60,
     "metadata": {},
     "output_type": "execute_result"
    }
   ],
   "source": [
    "df8"
   ]
  }
 ],
 "metadata": {
  "kernelspec": {
   "display_name": "Python 3",
   "language": "python",
   "name": "python3"
  },
  "language_info": {
   "codemirror_mode": {
    "name": "ipython",
    "version": 3
   },
   "file_extension": ".py",
   "mimetype": "text/x-python",
   "name": "python",
   "nbconvert_exporter": "python",
   "pygments_lexer": "ipython3",
   "version": "3.8.2"
  }
 },
 "nbformat": 4,
 "nbformat_minor": 4
}
