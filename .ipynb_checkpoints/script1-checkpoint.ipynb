{
 "cells": [
  {
   "cell_type": "code",
   "execution_count": 2,
   "metadata": {},
   "outputs": [
    {
     "name": "stdout",
     "output_type": "stream",
     "text": [
      "   Date  Visitors  BR    Country  Clicks        Day\n",
      "0     1      1500  20        USA      20    Tuesday\n",
      "1     2       700  25         UK      35  Wednesday\n",
      "2     3       900  15      India      37   Thursday\n",
      "3     4       400  35        USA      12     Friday\n",
      "4     5       500  14     Canada      35   Saturday\n",
      "5     6       700  15      India      32     Sunday\n",
      "6     7       600  20      India      37     Monday\n",
      "7     8       700  16        USA      40    Tuesday\n",
      "8     9      1200  27        USA      52  Wednesday\n",
      "9    10      1400  32  Australia      57   Thursday\n"
     ]
    }
   ],
   "source": [
    "import pandas\n",
    "df1=pandas.read_csv(\"traffic.csv\")\n",
    "print(df1)"
   ]
  },
  {
   "cell_type": "code",
   "execution_count": 5,
   "metadata": {},
   "outputs": [
    {
     "name": "stdout",
     "output_type": "stream",
     "text": [
      "   Date  Visitors  BR    Country  Clicks        Day\n",
      "0     1      1500  20        USA      20    Tuesday\n",
      "1     2       700  25         UK      35  Wednesday\n",
      "2     3       900  15      India      37   Thursday\n",
      "3     4       400  35        USA      12     Friday\n",
      "4     5       500  14     Canada      35   Saturday\n",
      "5     6       700  15      India      32     Sunday\n",
      "6     7       600  20      India      37     Monday\n",
      "7     8       700  16        USA      40    Tuesday\n",
      "8     9      1200  27        USA      52  Wednesday\n",
      "9    10      1400  32  Australia      57   Thursday\n"
     ]
    }
   ],
   "source": [
    "df2=pandas.read_excel(\"traffic.xlsx\")\n",
    "print(df2)"
   ]
  },
  {
   "cell_type": "code",
   "execution_count": 7,
   "metadata": {},
   "outputs": [
    {
     "name": "stdout",
     "output_type": "stream",
     "text": [
      "   Date  Visitors  BR    Country  Clicks        Day\n",
      "0     1      1500  20        USA      20    Tuesday\n",
      "1     2       700  25         UK      35  Wednesday\n",
      "2     3       900  15      India      37   Thursday\n",
      "3     4       400  35        USA      12     Friday\n",
      "4     5       500  14     Canada      35   Saturday\n",
      "5     6       700  15      India      32     Sunday\n",
      "6     7       600  20      India      37     Monday\n",
      "7     8       700  16        USA      40    Tuesday\n",
      "8     9      1200  27        USA      52  Wednesday\n",
      "9    10      1400  32  Australia      57   Thursday\n"
     ]
    }
   ],
   "source": [
    "df3=pandas.read_json(\"traffic.json\")\n",
    "print(df3)"
   ]
  },
  {
   "cell_type": "code",
   "execution_count": 9,
   "metadata": {},
   "outputs": [
    {
     "name": "stdout",
     "output_type": "stream",
     "text": [
      "       0         1   2          3       4          5\n",
      "0   Date  Visitors  BR    Country  Clicks        Day\n",
      "1      1      1500  20        USA      20    Tuesday\n",
      "2      2       700  25         UK      35  Wednesday\n",
      "3      3       900  15      India      37   Thursday\n",
      "4      4       400  35        USA      12     Friday\n",
      "5      5       500  14     Canada      35   Saturday\n",
      "6      6       700  15      India      32     Sunday\n",
      "7      7       600  20      India      37     Monday\n",
      "8      8       700  16        USA      40    Tuesday\n",
      "9      9      1200  27        USA      52  Wednesday\n",
      "10    10      1400  32  Australia      57   Thursday\n"
     ]
    }
   ],
   "source": [
    "df2=pandas.read_excel(\"traffic.xlsx\",header=None)\n",
    "print(df2)"
   ]
  },
  {
   "cell_type": "code",
   "execution_count": 10,
   "metadata": {},
   "outputs": [
    {
     "name": "stdout",
     "output_type": "stream",
     "text": [
      "   Date  Visitors  BR    Country  Clicks        Day\n",
      "0     1      1500  20        USA      20    Tuesday\n",
      "1     2       700  25         UK      35  Wednesday\n",
      "2     3       900  15      India      37   Thursday\n",
      "3     4       400  35        USA      12     Friday\n",
      "4     5       500  14     Canada      35   Saturday\n",
      "5     6       700  15      India      32     Sunday\n",
      "6     7       600  20      India      37     Monday\n",
      "7     8       700  16        USA      40    Tuesday\n",
      "8     9      1200  27        USA      52  Wednesday\n",
      "9    10      1400  32  Australia      57   Thursday\n"
     ]
    }
   ],
   "source": [
    "df2=pandas.read_excel(\"traffic.xlsx\")\n",
    "print(df2)"
   ]
  },
  {
   "cell_type": "code",
   "execution_count": 14,
   "metadata": {},
   "outputs": [],
   "source": [
    "dff=df2.set_index(\"Day\")"
   ]
  },
  {
   "cell_type": "code",
   "execution_count": 16,
   "metadata": {},
   "outputs": [
    {
     "data": {
      "text/html": [
       "<div>\n",
       "<style scoped>\n",
       "    .dataframe tbody tr th:only-of-type {\n",
       "        vertical-align: middle;\n",
       "    }\n",
       "\n",
       "    .dataframe tbody tr th {\n",
       "        vertical-align: top;\n",
       "    }\n",
       "\n",
       "    .dataframe thead th {\n",
       "        text-align: right;\n",
       "    }\n",
       "</style>\n",
       "<table border=\"1\" class=\"dataframe\">\n",
       "  <thead>\n",
       "    <tr style=\"text-align: right;\">\n",
       "      <th></th>\n",
       "      <th>Date</th>\n",
       "      <th>Visitors</th>\n",
       "      <th>BR</th>\n",
       "      <th>Country</th>\n",
       "      <th>Clicks</th>\n",
       "    </tr>\n",
       "    <tr>\n",
       "      <th>Day</th>\n",
       "      <th></th>\n",
       "      <th></th>\n",
       "      <th></th>\n",
       "      <th></th>\n",
       "      <th></th>\n",
       "    </tr>\n",
       "  </thead>\n",
       "  <tbody>\n",
       "    <tr>\n",
       "      <th>Tuesday</th>\n",
       "      <td>1</td>\n",
       "      <td>1500</td>\n",
       "      <td>20</td>\n",
       "      <td>USA</td>\n",
       "      <td>20</td>\n",
       "    </tr>\n",
       "    <tr>\n",
       "      <th>Wednesday</th>\n",
       "      <td>2</td>\n",
       "      <td>700</td>\n",
       "      <td>25</td>\n",
       "      <td>UK</td>\n",
       "      <td>35</td>\n",
       "    </tr>\n",
       "    <tr>\n",
       "      <th>Thursday</th>\n",
       "      <td>3</td>\n",
       "      <td>900</td>\n",
       "      <td>15</td>\n",
       "      <td>India</td>\n",
       "      <td>37</td>\n",
       "    </tr>\n",
       "    <tr>\n",
       "      <th>Friday</th>\n",
       "      <td>4</td>\n",
       "      <td>400</td>\n",
       "      <td>35</td>\n",
       "      <td>USA</td>\n",
       "      <td>12</td>\n",
       "    </tr>\n",
       "    <tr>\n",
       "      <th>Saturday</th>\n",
       "      <td>5</td>\n",
       "      <td>500</td>\n",
       "      <td>14</td>\n",
       "      <td>Canada</td>\n",
       "      <td>35</td>\n",
       "    </tr>\n",
       "    <tr>\n",
       "      <th>Sunday</th>\n",
       "      <td>6</td>\n",
       "      <td>700</td>\n",
       "      <td>15</td>\n",
       "      <td>India</td>\n",
       "      <td>32</td>\n",
       "    </tr>\n",
       "    <tr>\n",
       "      <th>Monday</th>\n",
       "      <td>7</td>\n",
       "      <td>600</td>\n",
       "      <td>20</td>\n",
       "      <td>India</td>\n",
       "      <td>37</td>\n",
       "    </tr>\n",
       "    <tr>\n",
       "      <th>Tuesday</th>\n",
       "      <td>8</td>\n",
       "      <td>700</td>\n",
       "      <td>16</td>\n",
       "      <td>USA</td>\n",
       "      <td>40</td>\n",
       "    </tr>\n",
       "    <tr>\n",
       "      <th>Wednesday</th>\n",
       "      <td>9</td>\n",
       "      <td>1200</td>\n",
       "      <td>27</td>\n",
       "      <td>USA</td>\n",
       "      <td>52</td>\n",
       "    </tr>\n",
       "    <tr>\n",
       "      <th>Thursday</th>\n",
       "      <td>10</td>\n",
       "      <td>1400</td>\n",
       "      <td>32</td>\n",
       "      <td>Australia</td>\n",
       "      <td>57</td>\n",
       "    </tr>\n",
       "  </tbody>\n",
       "</table>\n",
       "</div>"
      ],
      "text/plain": [
       "           Date  Visitors  BR    Country  Clicks\n",
       "Day                                             \n",
       "Tuesday       1      1500  20        USA      20\n",
       "Wednesday     2       700  25         UK      35\n",
       "Thursday      3       900  15      India      37\n",
       "Friday        4       400  35        USA      12\n",
       "Saturday      5       500  14     Canada      35\n",
       "Sunday        6       700  15      India      32\n",
       "Monday        7       600  20      India      37\n",
       "Tuesday       8       700  16        USA      40\n",
       "Wednesday     9      1200  27        USA      52\n",
       "Thursday     10      1400  32  Australia      57"
      ]
     },
     "execution_count": 16,
     "metadata": {},
     "output_type": "execute_result"
    }
   ],
   "source": [
    "dff"
   ]
  },
  {
   "cell_type": "code",
   "execution_count": 18,
   "metadata": {},
   "outputs": [
    {
     "data": {
      "text/plain": [
       "(10, 5)"
      ]
     },
     "execution_count": 18,
     "metadata": {},
     "output_type": "execute_result"
    }
   ],
   "source": [
    "dff.shape"
   ]
  },
  {
   "cell_type": "code",
   "execution_count": 20,
   "metadata": {},
   "outputs": [
    {
     "name": "stdout",
     "output_type": "stream",
     "text": [
      "   Date  Visitors  BR    Country  Clicks        Day\n",
      "0     1      1500  20        USA      20    Tuesday\n",
      "1     2       700  25         UK      35  Wednesday\n",
      "2     3       900  15      India      37   Thursday\n",
      "3     4       400  35        USA      12     Friday\n",
      "4     5       500  14     Canada      35   Saturday\n",
      "5     6       700  15      India      32     Sunday\n",
      "6     7       600  20      India      37     Monday\n",
      "7     8       700  16        USA      40    Tuesday\n",
      "8     9      1200  27        USA      52  Wednesday\n",
      "9    10      1400  32  Australia      57   Thursday\n"
     ]
    }
   ],
   "source": [
    "df5=pandas.read_csv(\"traffic-commas.txt\")\n",
    "print(df5)"
   ]
  },
  {
   "cell_type": "code",
   "execution_count": 5,
   "metadata": {},
   "outputs": [
    {
     "name": "stdout",
     "output_type": "stream",
     "text": [
      "   Date  Visitors  BR    Country  Clicks        Day\n",
      "0     1      1500  20        USA      20    Tuesday\n",
      "1     2       700  25         UK      35  Wednesday\n",
      "2     3       900  15      India      37   Thursday\n",
      "3     4       400  35        USA      12     Friday\n",
      "4     5       500  14     Canada      35   Saturday\n",
      "5     6       700  15      India      32     Sunday\n",
      "6     7       600  20      India      37     Monday\n",
      "7     8       700  16        USA      40    Tuesday\n",
      "8     9      1200  27        USA      52  Wednesday\n",
      "9    10      1400  32  Australia      57   Thursday\n"
     ]
    }
   ],
   "source": [
    "df2=pandas.read_excel(\"traffi\")\n",
    "print(df2)"
   ]
  }
 ],
 "metadata": {
  "kernelspec": {
   "display_name": "Python 3",
   "language": "python",
   "name": "python3"
  },
  "language_info": {
   "codemirror_mode": {
    "name": "ipython",
    "version": 3
   },
   "file_extension": ".py",
   "mimetype": "text/x-python",
   "name": "python",
   "nbconvert_exporter": "python",
   "pygments_lexer": "ipython3",
   "version": "3.8.2"
  }
 },
 "nbformat": 4,
 "nbformat_minor": 4
}
